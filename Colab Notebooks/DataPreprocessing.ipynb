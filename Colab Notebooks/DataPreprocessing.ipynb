{
  "nbformat": 4,
  "nbformat_minor": 0,
  "metadata": {
    "colab": {
      "provenance": []
    },
    "kernelspec": {
      "name": "python3",
      "display_name": "Python 3"
    },
    "language_info": {
      "name": "python"
    }
  },
  "cells": [
    {
      "cell_type": "code",
      "execution_count": null,
      "metadata": {
        "id": "XtTO7erfzVTi"
      },
      "outputs": [],
      "source": [
        "#from google.colab import drive\n",
        "#drive.mount('/content/drive')"
      ]
    },
    {
      "cell_type": "code",
      "source": [
        "import os\n",
        "\n",
        "dataset_path = \"/content/drive/MyDrive/chestXRay\"\n",
        "\n",
        "for data in os.listdir(dataset_path):\n",
        "  print(data)\n",
        "\n",
        "if os.path.exists(dataset_path):\n",
        "    print(\"Dataset found!\")\n",
        "    print(os.listdir(dataset_path))\n",
        "else:\n",
        "    print(\"Dataset not found. Make sure you added a shortcut in My Drive.\")"
      ],
      "metadata": {
        "id": "NveoqljtzrgD"
      },
      "execution_count": null,
      "outputs": []
    },
    {
      "cell_type": "code",
      "source": [
        "import shutil\n",
        "import random\n",
        "import numpy as np\n",
        "import pandas as pd\n",
        "import cv2\n",
        "import skimage\n",
        "import matplotlib.pyplot as plt\n",
        "import skimage.segmentation\n",
        "import seaborn as sns\n",
        "%matplotlib inline\n",
        "plt.style.use('ggplot')"
      ],
      "metadata": {
        "id": "UUMhp8tPzt-A"
      },
      "execution_count": null,
      "outputs": []
    },
    {
      "cell_type": "code",
      "source": [
        "def get_data(data_dir):\n",
        "    labels = ['PNEUMONIA', 'NORMAL']\n",
        "    img_size = 128\n",
        "    data = []\n",
        "    for label in labels:\n",
        "        path = os.path.join(data_dir, label)\n",
        "        class_num = labels.index(label)\n",
        "        if not os.path.exists(path):\n",
        "            print(f\"Warning: {path} does not exist! Skipping...\")\n",
        "            continue\n",
        "        for img in os.listdir(path):\n",
        "            if not img.lower().endswith(('.png', '.jpg', '.jpeg')):\n",
        "                continue\n",
        "            try:\n",
        "                img_arr = cv2.imread(os.path.join(path, img), cv2.IMREAD_GRAYSCALE)\n",
        "                resized_arr = cv2.resize(img_arr, (img_size, img_size))\n",
        "                data.append([resized_arr, class_num])\n",
        "            except Exception as e:\n",
        "                print(f\"Error loading image {img}: {e}\")\n",
        "    if len(data) == 0:\n",
        "        print(f\"Error: No data found in {data_dir}!\")\n",
        "        return None, None\n",
        "    images = np.array([entry[0] for entry in data])\n",
        "    labels = np.array([entry[1] for entry in data])\n",
        "    return images, labels"
      ],
      "metadata": {
        "id": "dKl9uY3kzu0G"
      },
      "execution_count": null,
      "outputs": []
    },
    {
      "cell_type": "code",
      "source": [
        "train_images, train_labels = get_data(\"/content/drive/My Drive/chestXRay/chest_xray/train\")\n",
        "test_images, test_labels = get_data(\"/content/drive/My Drive/chestXRay/chest_xray/test\")\n",
        "val_images, val_labels = get_data(\"/content/drive/My Drive/chestXRay/chest_xray/val\")\n",
        "\n",
        "\n",
        "if train_images is not None:\n",
        "    print(train_images.shape, train_labels.shape)\n",
        "    print(test_images.shape, test_labels.shape)\n",
        "    print(val_images.shape, val_labels.shape)"
      ],
      "metadata": {
        "id": "mbf-8DnDzyVw"
      },
      "execution_count": null,
      "outputs": []
    },
    {
      "cell_type": "code",
      "source": [
        "pneumonia = os.listdir(\"/content/drive/My Drive/chestXRay/chest_xray/train/PNEUMONIA\")\n",
        "penomina_dir = \"/content/drive/My Drive/chestXRay/chest_xray/train/PNEUMONIA\"\n",
        "\n",
        "plt.figure(figsize=(20,10))\n",
        "\n",
        "for i in range(9):\n",
        "    plt.subplot(3,3, i+1)\n",
        "    img = plt.imread(os.path.join(penomina_dir, pneumonia[i]))\n",
        "    plt.imshow(img, cmap='gray')\n",
        "    plt.axis(\"off\")\n",
        "    plt.title(\"Pneumonia X-ray\")\n",
        "plt.tight_layout()"
      ],
      "metadata": {
        "id": "KBhiq0IQz1Be"
      },
      "execution_count": null,
      "outputs": []
    },
    {
      "cell_type": "code",
      "source": [
        "normal = os.listdir(\"/content/drive/My Drive/chestXRay/chest_xray/train/NORMAL\")\n",
        "normal_dir = \"/content/drive/My Drive/chestXRay/chest_xray/train/NORMAL\"\n",
        "\n",
        "plt.figure(figsize=(20,10))\n",
        "\n",
        "for i in range(9):\n",
        "    plt.subplot(3,3, i+1)\n",
        "    img = plt.imread(os.path.join(normal_dir, normal[i]))\n",
        "    plt.imshow(img, cmap='gray')\n",
        "    plt.axis(\"off\")\n",
        "    plt.title(\"normal X-ray\")\n",
        "plt.tight_layout()"
      ],
      "metadata": {
        "id": "j8zCQG6Tz7Ja"
      },
      "execution_count": null,
      "outputs": []
    },
    {
      "cell_type": "code",
      "source": [
        "import seaborn as sns\n",
        "import matplotlib.pyplot as plt\n",
        "\n",
        "listx = []\n",
        "for i in range(len(train_labels)):\n",
        "    if train_labels[i] == 0:\n",
        "        listx.append(\"Pneumonia\")\n",
        "    else:\n",
        "        listx.append(\"Normal\")\n",
        "\n",
        "sns.countplot(x=listx, palette=\"Set2\")\n",
        "plt.show()"
      ],
      "metadata": {
        "id": "RmEFljY0z72j"
      },
      "execution_count": null,
      "outputs": []
    },
    {
      "cell_type": "code",
      "source": [
        "from tensorflow.keras.preprocessing.image import ImageDataGenerator"
      ],
      "metadata": {
        "id": "U3nPWz-y0Cv2"
      },
      "execution_count": null,
      "outputs": []
    },
    {
      "cell_type": "code",
      "source": [
        "train_datagen = ImageDataGenerator(rescale = 1. / 255,\n",
        "                  horizontal_flip=0.4,\n",
        "                  vertical_flip=0.4,\n",
        "                  rotation_range=40,\n",
        "                  shear_range=0.2,\n",
        "                  width_shift_range=0.4,\n",
        "                  height_shift_range=0.4,\n",
        "                  fill_mode=\"nearest\")\n",
        "valid_datagen = ImageDataGenerator(rescale = 1./255)\n",
        "test_datagen = ImageDataGenerator(rescale = 1./255)"
      ],
      "metadata": {
        "id": "x0hif9Tl0GW-"
      },
      "execution_count": null,
      "outputs": []
    },
    {
      "cell_type": "code",
      "source": [
        "train_generator = train_datagen.flow_from_directory(\"/content/drive/My Drive/chestXRay/chest_xray/train\",\n",
        "                                 batch_size = 32,\n",
        "                                 target_size=(128,128),\n",
        "                                 class_mode = 'categorical',\n",
        "                                 shuffle=True,\n",
        "                                 seed = 42,\n",
        "                                 color_mode = 'rgb')\n",
        "valid_generator = valid_datagen.flow_from_directory(\"/content/drive/My Drive/chestXRay/chest_xray/val\",\n",
        "                                 batch_size = 32,\n",
        "                                 target_size=(128,128),\n",
        "                                 class_mode = 'categorical',\n",
        "                                 shuffle=True,\n",
        "                                 seed = 42,\n",
        "                                 color_mode = 'rgb')\n",
        "test_generator = test_datagen.flow_from_directory(\"/content/drive/My Drive/chestXRay/chest_xray/test\",\n",
        "                                 batch_size = 32,\n",
        "                                 target_size=(128,128),\n",
        "                                 class_mode = 'categorical',\n",
        "                                 shuffle=True,\n",
        "                                 seed = 42,\n",
        "                                 color_mode = 'rgb')"
      ],
      "metadata": {
        "id": "t7SSXCSz0Kq6"
      },
      "execution_count": null,
      "outputs": []
    }
  ]
}